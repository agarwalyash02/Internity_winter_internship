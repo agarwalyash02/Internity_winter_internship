{
 "cells": [
  {
   "cell_type": "code",
   "execution_count": 1,
   "metadata": {},
   "outputs": [],
   "source": [
    "import pandas as pd"
   ]
  },
  {
   "cell_type": "code",
   "execution_count": 2,
   "metadata": {},
   "outputs": [],
   "source": [
    "def get_data(url):\n",
    "    try:\n",
    "        return pd.read_csv(url,sep=\",\")\n",
    "    except:\n",
    "        print(\"Invalid url plz check\")"
   ]
  },
  {
   "cell_type": "code",
   "execution_count": 3,
   "metadata": {},
   "outputs": [
    {
     "name": "stdout",
     "output_type": "stream",
     "text": [
      "Invalid url plz check\n"
     ]
    }
   ],
   "source": [
    "df = get_data(\"https://raw.githubuserconaseer/l_object/master/log.csv\")"
   ]
  },
  {
   "cell_type": "code",
   "execution_count": 4,
   "metadata": {},
   "outputs": [],
   "source": [
    "df = get_data(\"https://raw.githubusercontent.com/usama6naseer/largest_object/master/log.csv\")"
   ]
  },
  {
   "cell_type": "code",
   "execution_count": 5,
   "metadata": {},
   "outputs": [
    {
     "name": "stdout",
     "output_type": "stream",
     "text": [
      "    9          qq.com\n",
      "0  11      taobao.com\n",
      "1  12     twitter.com\n",
      "2  15          vk.com\n",
      "3  16        live.com\n",
      "4  21       weibo.com\n",
      "5  26  list.tmall.com\n",
      "6  39       imgur.com\n"
     ]
    }
   ],
   "source": [
    "print(df.head(7))"
   ]
  },
  {
   "cell_type": "code",
   "execution_count": 6,
   "metadata": {},
   "outputs": [
    {
     "name": "stdout",
     "output_type": "stream",
     "text": [
      "           9            qq.com\n",
      "15030  93936       armsport.am\n",
      "15031  93938  doudouxitong.net\n",
      "15032  93939        moh.gov.sg\n",
      "15033  93940   quericavida.com\n",
      "15034  93941    jihadology.net\n",
      "15035  93942           vlsu.ru\n",
      "15036  93943     books24x7.com\n"
     ]
    }
   ],
   "source": [
    "print(df.tail(7))"
   ]
  },
  {
   "cell_type": "code",
   "execution_count": 7,
   "metadata": {},
   "outputs": [
    {
     "name": "stdout",
     "output_type": "stream",
     "text": [
      "<bound method NDFrame.describe of            9           qq.com\n",
      "0         11       taobao.com\n",
      "1         12      twitter.com\n",
      "2         15           vk.com\n",
      "3         16         live.com\n",
      "4         21        weibo.com\n",
      "...      ...              ...\n",
      "15032  93939       moh.gov.sg\n",
      "15033  93940  quericavida.com\n",
      "15034  93941   jihadology.net\n",
      "15035  93942          vlsu.ru\n",
      "15036  93943    books24x7.com\n",
      "\n",
      "[15037 rows x 2 columns]>\n"
     ]
    }
   ],
   "source": [
    "print(df.describe)"
   ]
  },
  {
   "cell_type": "code",
   "execution_count": 8,
   "metadata": {},
   "outputs": [
    {
     "name": "stdout",
     "output_type": "stream",
     "text": [
      "           9  qq.com\n",
      "0      False   False\n",
      "1      False   False\n",
      "2      False   False\n",
      "3      False   False\n",
      "4      False   False\n",
      "...      ...     ...\n",
      "15032  False   False\n",
      "15033  False   False\n",
      "15034  False   False\n",
      "15035  False   False\n",
      "15036  False   False\n",
      "\n",
      "[15037 rows x 2 columns]\n"
     ]
    }
   ],
   "source": [
    "print(df.isnull())"
   ]
  }
 ],
 "metadata": {
  "kernelspec": {
   "display_name": "Python 3",
   "language": "python",
   "name": "python3"
  },
  "language_info": {
   "codemirror_mode": {
    "name": "ipython",
    "version": 3
   },
   "file_extension": ".py",
   "mimetype": "text/x-python",
   "name": "python",
   "nbconvert_exporter": "python",
   "pygments_lexer": "ipython3",
   "version": "3.7.4"
  }
 },
 "nbformat": 4,
 "nbformat_minor": 2
}
